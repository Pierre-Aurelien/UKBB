{
 "cells": [
  {
   "cell_type": "markdown",
   "metadata": {},
   "source": [
    "Although the HTML file provides us with a wealth of data, the format isn't very tractable when it comes to automating any process requiring such high-level information. This code scraps data from the HTML file, and returns a simple .csv file named \"**Summary**\":"
   ]
  },
  {
   "cell_type": "markdown",
   "metadata": {},
   "source": [
    "- **Summary**"
   ]
  },
  {
   "cell_type": "markdown",
   "metadata": {},
   "source": [
    " | Column name | Type of variable | Number of values | Kind of measurement | Coding used | Cardinality |\n",
    " | --- | --- | --- |--- | --- | --- |\n",
    " | \t'23-0.0' |\t'Categorical (single)' | '456606' | 'Spirometry method'| '100270'  |'5' |"
   ]
  },
  {
   "cell_type": "markdown",
   "metadata": {},
   "source": [
    "- **Meaning**"
   ]
  },
  {
   "cell_type": "markdown",
   "metadata": {},
   "source": [
    " | Column  | Signification/ Relevance | \n",
    " | --- | --- | \n",
    " |Column name |\tName used in the UKBB | \n",
    " |Type of variable |\t'Categorical (single)' , 'Integer' , 'Date' , 'Time'  ...|\n",
    " |Number of values |\tNumber of people on which the measurement was performed (related to the number of missing values for this measurement) |\n",
    " |Kind of measurement | Why is this column relevant in the UKBB?  |\n",
    " |Coding used|\tA lot of measurements are encoded differently |\n",
    " |Cardinality| Number of similar questions (same number before the first \"-\" in \"Column name\") |"
   ]
  },
  {
   "cell_type": "code",
   "execution_count": null,
   "metadata": {},
   "outputs": [],
   "source": [
    "from bs4 import BeautifulSoup\n",
    "url = \"./ukb24899.html\"      ##insert the pathname for the html file\n",
    "page = open(url, encoding = \"ISO-8859-1\")\n",
    "soup = BeautifulSoup(page.read())\n",
    "import re\n",
    "import csv"
   ]
  },
  {
   "cell_type": "markdown",
   "metadata": {},
   "source": [
    "### Function to pull all the information from the HTML"
   ]
  },
  {
   "cell_type": "code",
   "execution_count": null,
   "metadata": {},
   "outputs": [],
   "source": [
    "def variable_type_opt(column_number):\n",
    "    #Get the subtype in which the column is encoded in the UKbiobank\n",
    "    #First, get the UID\n",
    "    tag=soup.find('td', style=\"text-align: right;\",text=re.compile(r'^(%s)$'%column_number))\n",
    "    if  tag.next_sibling!=None and tag.next_sibling.a!=None:\n",
    "         tag_aux=tag.next_sibling\n",
    "    else:\n",
    "        tags=soup.find_all('td', style=\"text-align: right;\",text=re.compile(r'^(%s)$'%column_number))\n",
    "        for item in tags:\n",
    "              if item.next_sibling!=None and item.next_sibling.a!=None:\n",
    "                    tag_aux=item.next_sibling\n",
    "                    break \n",
    "   #the first numbers before the \"-\" are unique to the tag we are then looking for. They all pertain to the same subtype\n",
    "    up_to=tag_aux.string.find('-')\n",
    "    udi_aux=tag_aux.string[:up_to+1]\n",
    "   #Extracting the number of measurements:\n",
    "    tag6=tag_aux.next_sibling\n",
    "   #extracting the tag of interest\n",
    "    tag_aux_2=soup.find('a',text=re.compile(r'^(%s)'%udi_aux))\n",
    "    tag_aux_3=tag_aux_2.parent\n",
    "    tag4=tag_aux_3.next_sibling.next_sibling\n",
    "    tag5=tag4.next_sibling #fifth line\n",
    "    #get generator for each string\n",
    "    list_1=list(tag5.stripped_strings)\n",
    "    if len(list_1)==1:\n",
    "        a1=list_1[0] #meaning of the column\n",
    "        a2=\"0\"\n",
    "        a3=\"0\"\n",
    "    else:\n",
    "        a1=list_1[0] #meaning of the column\n",
    "        a2=list_1[2] #data coding\n",
    "        a3=list_1[3].split()[1] #number of values\n",
    "    return(str(tag_aux.string),str(tag4.string),str(tag6.string), a1,a2,a3);"
   ]
  },
  {
   "cell_type": "markdown",
   "metadata": {},
   "source": [
    "Always pre-allocate a list, this operation is very fast, even on big lists. \n",
    "Allocating new objects that will be later assigned to list elements will take MUCH longer and will be THE bottleneck in your program, performance-wise."
   ]
  },
  {
   "cell_type": "code",
   "execution_count": null,
   "metadata": {},
   "outputs": [],
   "source": [
    "t = time.time()\n",
    "List_types=[None]*16021\n",
    "List_names=[None]*16021\n",
    "List_count=[None]*16021\n",
    "List_meaning=[None]*16021\n",
    "List_coding=[None]*16021\n",
    "List_cardinality=[None]*16021\n",
    "List_types[0]=\"Sequence\"\n",
    "List_names[0]=\"eid\"\n",
    "List_count[0]=502543\n",
    "List_meaning[0]=\"Encoded anonymised participant ID\"\n",
    "List_coding[0]=\"0\"\n",
    "List_cardinality[0]=\"0\"\n",
    "\n",
    "for i in range(1, 16021):  #16020:number of columns in this UKBB +1\n",
    "    Aux=variable_type_opt(i)\n",
    "    List_names[i]=Aux[0]\n",
    "    List_types[i]=Aux[1]\n",
    "    List_count[i]=Aux[2]\n",
    "    List_meaning[i]=Aux[3]\n",
    "    List_coding[i]=Aux[4]\n",
    "    List_cardinality[i]=Aux[5]\n",
    "    if i%500==0:\n",
    "        print(i)\n",
    "elapsed = time.time() - t\n",
    "print(elapsed/60)"
   ]
  },
  {
   "cell_type": "markdown",
   "metadata": {},
   "source": [
    "Even with preallocation, it took about 3 hours to perfom all the calculations. (199.39 minutes) (Macbook pro 2.7 GHz Intel Core i5 8 GB 1867 MHz DDR3)"
   ]
  },
  {
   "cell_type": "markdown",
   "metadata": {},
   "source": [
    "### Saving each list in csv files"
   ]
  },
  {
   "cell_type": "code",
   "execution_count": null,
   "metadata": {},
   "outputs": [],
   "source": [
    "with open('List_count','w', newline='') as f:\n",
    "    thewriter=csv.writer(f)        #create the writer object\n",
    "    thewriter.writerow(List_count)\n",
    "with open('List_names','w', newline='') as f:\n",
    "    thewriter=csv.writer(f)        #create the writer object\n",
    "    thewriter.writerow(List_names)\n",
    "with open('List_types','w', newline='') as f:\n",
    "    thewriter=csv.writer(f)        #create the writer object\n",
    "    thewriter.writerow(List_types)\n",
    "with open('List_meaning','w', newline='') as f:\n",
    "    thewriter=csv.writer(f)        #create the writer object\n",
    "    thewriter.writerow(List_meaning)\n",
    "with open('List_coding','w', newline='') as f:\n",
    "    thewriter=csv.writer(f)        #create the writer object\n",
    "    thewriter.writerow(List_coding)\n",
    "with open('List_cardinality','w', newline='') as f:\n",
    "    thewriter=csv.writer(f)        #create the writer object\n",
    "    thewriter.writerow(List_cardinality)"
   ]
  },
  {
   "cell_type": "markdown",
   "metadata": {},
   "source": [
    "## Saving to summary.csv"
   ]
  },
  {
   "cell_type": "code",
   "execution_count": 1,
   "metadata": {},
   "outputs": [
    {
     "ename": "NameError",
     "evalue": "name 'csv' is not defined",
     "output_type": "error",
     "traceback": [
      "\u001b[0;31m---------------------------------------------------------------------------\u001b[0m",
      "\u001b[0;31mNameError\u001b[0m                                 Traceback (most recent call last)",
      "\u001b[0;32m<ipython-input-1-d5f4a6a1c189>\u001b[0m in \u001b[0;36m<module>\u001b[0;34m\u001b[0m\n\u001b[1;32m      1\u001b[0m \u001b[0;32mwith\u001b[0m \u001b[0mopen\u001b[0m\u001b[0;34m(\u001b[0m\u001b[0;34m\"List_count\"\u001b[0m\u001b[0;34m)\u001b[0m \u001b[0;32mas\u001b[0m \u001b[0mLCount\u001b[0m\u001b[0;34m,\u001b[0m \u001b[0mopen\u001b[0m\u001b[0;34m(\u001b[0m\u001b[0;34m\"List_types\"\u001b[0m\u001b[0;34m)\u001b[0m \u001b[0;32mas\u001b[0m \u001b[0mLTypes\u001b[0m\u001b[0;34m,\u001b[0m\u001b[0mopen\u001b[0m\u001b[0;34m(\u001b[0m\u001b[0;34m\"./List_names\"\u001b[0m\u001b[0;34m)\u001b[0m \u001b[0;32mas\u001b[0m \u001b[0mLNames\u001b[0m\u001b[0;34m,\u001b[0m\u001b[0mopen\u001b[0m\u001b[0;34m(\u001b[0m\u001b[0;34m\"List_meaning\"\u001b[0m\u001b[0;34m)\u001b[0m \u001b[0;32mas\u001b[0m \u001b[0mLMeaning\u001b[0m\u001b[0;34m,\u001b[0m \u001b[0mopen\u001b[0m\u001b[0;34m(\u001b[0m\u001b[0;34m\"List_coding\"\u001b[0m\u001b[0;34m)\u001b[0m \u001b[0;32mas\u001b[0m \u001b[0mLCoding\u001b[0m\u001b[0;34m,\u001b[0m\u001b[0mopen\u001b[0m\u001b[0;34m(\u001b[0m\u001b[0;34m\"List_cardinality\"\u001b[0m\u001b[0;34m)\u001b[0m \u001b[0;32mas\u001b[0m \u001b[0mLCardinality\u001b[0m\u001b[0;34m:\u001b[0m\u001b[0;34m\u001b[0m\u001b[0;34m\u001b[0m\u001b[0m\n\u001b[0;32m----> 2\u001b[0;31m     \u001b[0mreaderLC\u001b[0m \u001b[0;34m=\u001b[0m \u001b[0mcsv\u001b[0m\u001b[0;34m.\u001b[0m\u001b[0mreader\u001b[0m\u001b[0;34m(\u001b[0m\u001b[0mLCount\u001b[0m\u001b[0;34m)\u001b[0m\u001b[0;34m\u001b[0m\u001b[0;34m\u001b[0m\u001b[0m\n\u001b[0m\u001b[1;32m      3\u001b[0m     \u001b[0mreaderLT\u001b[0m \u001b[0;34m=\u001b[0m \u001b[0mcsv\u001b[0m\u001b[0;34m.\u001b[0m\u001b[0mreader\u001b[0m\u001b[0;34m(\u001b[0m\u001b[0mLTypes\u001b[0m\u001b[0;34m)\u001b[0m\u001b[0;34m\u001b[0m\u001b[0;34m\u001b[0m\u001b[0m\n\u001b[1;32m      4\u001b[0m     \u001b[0mreaderLN\u001b[0m \u001b[0;34m=\u001b[0m \u001b[0mcsv\u001b[0m\u001b[0;34m.\u001b[0m\u001b[0mreader\u001b[0m\u001b[0;34m(\u001b[0m\u001b[0mLNames\u001b[0m\u001b[0;34m)\u001b[0m\u001b[0;34m\u001b[0m\u001b[0;34m\u001b[0m\u001b[0m\n\u001b[1;32m      5\u001b[0m     \u001b[0mreaderLMn\u001b[0m \u001b[0;34m=\u001b[0m \u001b[0mcsv\u001b[0m\u001b[0;34m.\u001b[0m\u001b[0mreader\u001b[0m\u001b[0;34m(\u001b[0m\u001b[0mLMeaning\u001b[0m\u001b[0;34m)\u001b[0m\u001b[0;34m\u001b[0m\u001b[0;34m\u001b[0m\u001b[0m\n",
      "\u001b[0;31mNameError\u001b[0m: name 'csv' is not defined"
     ]
    }
   ],
   "source": [
    "with open(\"List_count\") as LCount, open(\"List_types\") as LTypes,open(\"./List_names\") as LNames,open(\"List_meaning\") as LMeaning, open(\"List_coding\") as LCoding,open(\"List_cardinality\") as LCardinality:\n",
    "    readerLC = csv.reader(LCount)\n",
    "    readerLT = csv.reader(LTypes)\n",
    "    readerLN = csv.reader(LNames)\n",
    "    readerLMn = csv.reader(LMeaning)\n",
    "    readerLCd = csv.reader(LCoding)\n",
    "    readerLCr = csv.reader(LCardinality)\n",
    "    data1 = [r for r in readerLC]\n",
    "    data2 = [r for r in readerLT]\n",
    "    data3 = [r for r in readerLN]\n",
    "    data4 = [r for r in readerLMn]\n",
    "    data5 = [r for r in readerLCd]\n",
    "    data6 = [r for r in readerLCr]\n",
    "    summary_T=[data3[0],data2[0],data1[0],data4[0],data5[0],data6[0]]\n",
    "    \n",
    "summary=list(map(list, zip(*summary_T)))\n",
    "df=pd.DataFrame(summary,columns=[\"Column_name\",\"Type_variable\", \"Number_values\",\"Kind_measurement\",\"Coding_used\", \"Cardinality\"]).to_csv(\"Summary.csv\",index=False)"
   ]
  },
  {
   "cell_type": "code",
   "execution_count": null,
   "metadata": {},
   "outputs": [],
   "source": []
  },
  {
   "cell_type": "code",
   "execution_count": null,
   "metadata": {},
   "outputs": [],
   "source": []
  }
 ],
 "metadata": {
  "kernelspec": {
   "display_name": "Python 3",
   "language": "python",
   "name": "python3"
  },
  "language_info": {
   "codemirror_mode": {
    "name": "ipython",
    "version": 3
   },
   "file_extension": ".py",
   "mimetype": "text/x-python",
   "name": "python",
   "nbconvert_exporter": "python",
   "pygments_lexer": "ipython3",
   "version": "3.7.4"
  },
  "latex_envs": {
   "LaTeX_envs_menu_present": true,
   "autoclose": false,
   "autocomplete": true,
   "bibliofile": "biblio.bib",
   "cite_by": "apalike",
   "current_citInitial": 1,
   "eqLabelWithNumbers": true,
   "eqNumInitial": 1,
   "hotkeys": {
    "equation": "Ctrl-E",
    "itemize": "Ctrl-I"
   },
   "labels_anchors": false,
   "latex_user_defs": false,
   "report_style_numbering": false,
   "user_envs_cfg": false
  },
  "toc": {
   "base_numbering": 1,
   "nav_menu": {},
   "number_sections": true,
   "sideBar": true,
   "skip_h1_title": false,
   "title_cell": "Table of Contents",
   "title_sidebar": "Contents",
   "toc_cell": false,
   "toc_position": {},
   "toc_section_display": true,
   "toc_window_display": false
  },
  "varInspector": {
   "cols": {
    "lenName": 16,
    "lenType": 16,
    "lenVar": 40
   },
   "kernels_config": {
    "python": {
     "delete_cmd_postfix": "",
     "delete_cmd_prefix": "del ",
     "library": "var_list.py",
     "varRefreshCmd": "print(var_dic_list())"
    },
    "r": {
     "delete_cmd_postfix": ") ",
     "delete_cmd_prefix": "rm(",
     "library": "var_list.r",
     "varRefreshCmd": "cat(var_dic_list()) "
    }
   },
   "types_to_exclude": [
    "module",
    "function",
    "builtin_function_or_method",
    "instance",
    "_Feature"
   ],
   "window_display": false
  }
 },
 "nbformat": 4,
 "nbformat_minor": 2
}
